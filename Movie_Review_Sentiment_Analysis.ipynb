{
  "cells": [
    {
      "cell_type": "markdown",
      "id": "bc97d6da",
      "metadata": {
        "id": "bc97d6da"
      },
      "source": [
        "#Naive Bayes\n",
        "\n",
        "You will be dealing with movie review data that includes both positive and negative reviews in this assignment. You will use Sentiment Analysis to assess if a given review is positive or negative using the provided dataset.\n",
        "\n",
        "Therefore, we will make use of Naive Bayes algorithm to perform sentiment analysis on the movie review dataset.\n",
        "\n",
        "## Importing the Libraries"
      ]
    },
    {
      "cell_type": "code",
      "execution_count": null,
      "id": "a03450ac",
      "metadata": {
        "id": "a03450ac",
        "colab": {
          "base_uri": "https://localhost:8080/"
        },
        "outputId": "e0aad59a-f1d3-4f04-bad7-2d04944d6b74"
      },
      "outputs": [
        {
          "output_type": "stream",
          "name": "stdout",
          "text": [
            "[nltk_data] Downloading package punkt to /root/nltk_data...\n",
            "[nltk_data]   Package punkt is already up-to-date!\n",
            "[nltk_data] Downloading package wordnet to /root/nltk_data...\n",
            "[nltk_data]   Package wordnet is already up-to-date!\n",
            "[nltk_data] Downloading package stopwords to /root/nltk_data...\n",
            "[nltk_data]   Package stopwords is already up-to-date!\n"
          ]
        }
      ],
      "source": [
        "import numpy as np\n",
        "import math\n",
        "import pandas as pd\n",
        "import re\n",
        "import nltk\n",
        "from nltk.corpus import stopwords\n",
        "from nltk.stem import PorterStemmer\n",
        "from nltk.tokenize import word_tokenize\n",
        "import warnings\n",
        "import seaborn as sns\n",
        "import matplotlib.pyplot as plt\n",
        "from sklearn.metrics import confusion_matrix\n",
        "from sklearn.model_selection import train_test_split\n",
        "nltk.download('punkt')\n",
        "nltk.download('wordnet')\n",
        "nltk.download('stopwords')\n",
        "warnings.filterwarnings(\"ignore\")"
      ]
    },
    {
      "cell_type": "markdown",
      "id": "fc584cc2",
      "metadata": {
        "id": "fc584cc2"
      },
      "source": [
        "## Reading the data\n",
        "\n",
        "When reading the data, ensure that the '.csv' file is in the same location where your jupyter notebook is used. This way the files are organized and easy to read using the pandas library. "
      ]
    },
    {
      "cell_type": "code",
      "execution_count": null,
      "id": "3c9ffbf5",
      "metadata": {
        "id": "3c9ffbf5"
      },
      "outputs": [],
      "source": [
        "## Reading the data and removing columns that are not important. \n",
        "df = pd.read_csv(\"movie_reviews-1.csv\", sep = ',', encoding = 'latin-1', usecols = lambda col: col not in [\"Unnamed: 2\", \"Unnamed: 3\", \"Unnamed: 4\"])"
      ]
    },
    {
      "cell_type": "code",
      "execution_count": null,
      "id": "f7fa8ac0",
      "metadata": {
        "colab": {
          "base_uri": "https://localhost:8080/",
          "height": 206
        },
        "id": "f7fa8ac0",
        "outputId": "c3b4ab38-c479-4dd0-b9e2-21d8ca66cc3c"
      },
      "outputs": [
        {
          "output_type": "execute_result",
          "data": {
            "text/plain": [
              "                                              review sentiment\n",
              "0  One of the other reviewers has mentioned that ...  positive\n",
              "1  A wonderful little production. <br /><br />The...  positive\n",
              "2  I thought this was a wonderful way to spend ti...  positive\n",
              "3  Petter Mattei's \"Love in the Time of Money\" is...  positive\n",
              "4  Probably my all-time favorite movie, a story o...  positive"
            ],
            "text/html": [
              "\n",
              "  <div id=\"df-6f66fdc4-908e-49c4-81b2-d9bac0483e61\">\n",
              "    <div class=\"colab-df-container\">\n",
              "      <div>\n",
              "<style scoped>\n",
              "    .dataframe tbody tr th:only-of-type {\n",
              "        vertical-align: middle;\n",
              "    }\n",
              "\n",
              "    .dataframe tbody tr th {\n",
              "        vertical-align: top;\n",
              "    }\n",
              "\n",
              "    .dataframe thead th {\n",
              "        text-align: right;\n",
              "    }\n",
              "</style>\n",
              "<table border=\"1\" class=\"dataframe\">\n",
              "  <thead>\n",
              "    <tr style=\"text-align: right;\">\n",
              "      <th></th>\n",
              "      <th>review</th>\n",
              "      <th>sentiment</th>\n",
              "    </tr>\n",
              "  </thead>\n",
              "  <tbody>\n",
              "    <tr>\n",
              "      <th>0</th>\n",
              "      <td>One of the other reviewers has mentioned that ...</td>\n",
              "      <td>positive</td>\n",
              "    </tr>\n",
              "    <tr>\n",
              "      <th>1</th>\n",
              "      <td>A wonderful little production. &lt;br /&gt;&lt;br /&gt;The...</td>\n",
              "      <td>positive</td>\n",
              "    </tr>\n",
              "    <tr>\n",
              "      <th>2</th>\n",
              "      <td>I thought this was a wonderful way to spend ti...</td>\n",
              "      <td>positive</td>\n",
              "    </tr>\n",
              "    <tr>\n",
              "      <th>3</th>\n",
              "      <td>Petter Mattei's \"Love in the Time of Money\" is...</td>\n",
              "      <td>positive</td>\n",
              "    </tr>\n",
              "    <tr>\n",
              "      <th>4</th>\n",
              "      <td>Probably my all-time favorite movie, a story o...</td>\n",
              "      <td>positive</td>\n",
              "    </tr>\n",
              "  </tbody>\n",
              "</table>\n",
              "</div>\n",
              "      <button class=\"colab-df-convert\" onclick=\"convertToInteractive('df-6f66fdc4-908e-49c4-81b2-d9bac0483e61')\"\n",
              "              title=\"Convert this dataframe to an interactive table.\"\n",
              "              style=\"display:none;\">\n",
              "        \n",
              "  <svg xmlns=\"http://www.w3.org/2000/svg\" height=\"24px\"viewBox=\"0 0 24 24\"\n",
              "       width=\"24px\">\n",
              "    <path d=\"M0 0h24v24H0V0z\" fill=\"none\"/>\n",
              "    <path d=\"M18.56 5.44l.94 2.06.94-2.06 2.06-.94-2.06-.94-.94-2.06-.94 2.06-2.06.94zm-11 1L8.5 8.5l.94-2.06 2.06-.94-2.06-.94L8.5 2.5l-.94 2.06-2.06.94zm10 10l.94 2.06.94-2.06 2.06-.94-2.06-.94-.94-2.06-.94 2.06-2.06.94z\"/><path d=\"M17.41 7.96l-1.37-1.37c-.4-.4-.92-.59-1.43-.59-.52 0-1.04.2-1.43.59L10.3 9.45l-7.72 7.72c-.78.78-.78 2.05 0 2.83L4 21.41c.39.39.9.59 1.41.59.51 0 1.02-.2 1.41-.59l7.78-7.78 2.81-2.81c.8-.78.8-2.07 0-2.86zM5.41 20L4 18.59l7.72-7.72 1.47 1.35L5.41 20z\"/>\n",
              "  </svg>\n",
              "      </button>\n",
              "      \n",
              "  <style>\n",
              "    .colab-df-container {\n",
              "      display:flex;\n",
              "      flex-wrap:wrap;\n",
              "      gap: 12px;\n",
              "    }\n",
              "\n",
              "    .colab-df-convert {\n",
              "      background-color: #E8F0FE;\n",
              "      border: none;\n",
              "      border-radius: 50%;\n",
              "      cursor: pointer;\n",
              "      display: none;\n",
              "      fill: #1967D2;\n",
              "      height: 32px;\n",
              "      padding: 0 0 0 0;\n",
              "      width: 32px;\n",
              "    }\n",
              "\n",
              "    .colab-df-convert:hover {\n",
              "      background-color: #E2EBFA;\n",
              "      box-shadow: 0px 1px 2px rgba(60, 64, 67, 0.3), 0px 1px 3px 1px rgba(60, 64, 67, 0.15);\n",
              "      fill: #174EA6;\n",
              "    }\n",
              "\n",
              "    [theme=dark] .colab-df-convert {\n",
              "      background-color: #3B4455;\n",
              "      fill: #D2E3FC;\n",
              "    }\n",
              "\n",
              "    [theme=dark] .colab-df-convert:hover {\n",
              "      background-color: #434B5C;\n",
              "      box-shadow: 0px 1px 3px 1px rgba(0, 0, 0, 0.15);\n",
              "      filter: drop-shadow(0px 1px 2px rgba(0, 0, 0, 0.3));\n",
              "      fill: #FFFFFF;\n",
              "    }\n",
              "  </style>\n",
              "\n",
              "      <script>\n",
              "        const buttonEl =\n",
              "          document.querySelector('#df-6f66fdc4-908e-49c4-81b2-d9bac0483e61 button.colab-df-convert');\n",
              "        buttonEl.style.display =\n",
              "          google.colab.kernel.accessAllowed ? 'block' : 'none';\n",
              "\n",
              "        async function convertToInteractive(key) {\n",
              "          const element = document.querySelector('#df-6f66fdc4-908e-49c4-81b2-d9bac0483e61');\n",
              "          const dataTable =\n",
              "            await google.colab.kernel.invokeFunction('convertToInteractive',\n",
              "                                                     [key], {});\n",
              "          if (!dataTable) return;\n",
              "\n",
              "          const docLinkHtml = 'Like what you see? Visit the ' +\n",
              "            '<a target=\"_blank\" href=https://colab.research.google.com/notebooks/data_table.ipynb>data table notebook</a>'\n",
              "            + ' to learn more about interactive tables.';\n",
              "          element.innerHTML = '';\n",
              "          dataTable['output_type'] = 'display_data';\n",
              "          await google.colab.output.renderOutput(dataTable, element);\n",
              "          const docLink = document.createElement('div');\n",
              "          docLink.innerHTML = docLinkHtml;\n",
              "          element.appendChild(docLink);\n",
              "        }\n",
              "      </script>\n",
              "    </div>\n",
              "  </div>\n",
              "  "
            ]
          },
          "metadata": {},
          "execution_count": 3
        }
      ],
      "source": [
        "df.head()  # print head of data frame with help of head function"
      ]
    },
    {
      "cell_type": "markdown",
      "id": "1749da04",
      "metadata": {
        "id": "1749da04"
      },
      "source": [
        "## Count plot of the output categories: positive or negative\n",
        "\n",
        "Feel free to take a look at the output and whether the classes are balanced or imbalanced. "
      ]
    },
    {
      "cell_type": "code",
      "execution_count": null,
      "id": "c152e8a4",
      "metadata": {
        "colab": {
          "base_uri": "https://localhost:8080/",
          "height": 515
        },
        "id": "c152e8a4",
        "outputId": "3e3f7431-8272-4fee-f298-4c73171e4a23"
      },
      "outputs": [
        {
          "output_type": "display_data",
          "data": {
            "text/plain": [
              "<Figure size 576x576 with 1 Axes>"
            ],
            "image/png": "[encoded data removed]"
          },
          "metadata": {
            "needs_background": "light"
          }
        }
      ],
      "source": [
        "plt.figure(figsize = [8,8])\n",
        "ax = sns.countplot(df.sentiment)\n",
        "plt.title(\"Positive Vs. Negative reviews count\", fontsize = 15)\n",
        "for p in ax.patches:\n",
        "   ax.annotate('{:.1f}'.format(p.get_height()), (p.get_x()+0.25, p.get_height()+0.01))\n",
        "plt.show()"
      ]
    },
    {
      "cell_type": "markdown",
      "source": [
        "It can be seen that there is a very slight imbalance in the two classes present."
      ],
      "metadata": {
        "id": "X8X8WdPyzs2h"
      },
      "id": "X8X8WdPyzs2h"
    },
    {
      "cell_type": "markdown",
      "id": "9b8549f2",
      "metadata": {
        "id": "9b8549f2"
      },
      "source": [
        "## Upsampling the minority class\n",
        "\n",
        "It is known that Naive bayes is not robust to class imbalance. It could be seen above that the data is little imbalanced. Therefore, class balancing can be done before giving it to the Naive Bayes model for prediction. \n",
        "\n",
        "Feel free to use 'resample' library from sklearn. "
      ]
    },
    {
      "cell_type": "code",
      "source": [
        "## hint: use resample from sklearn.utils\n",
        "from sklearn.utils import resample\n",
        "\n",
        "df_majority = df[df['sentiment'] == 'positive']\n",
        "df_minority = df[df['sentiment'] == 'negative']\n",
        "\n",
        "negative_upsample = resample(df_minority, replace = True, \n",
        "                        n_samples = df_majority.shape[0],\n",
        "                        random_state = 101)\n",
        "\n",
        "df_upsampled = pd.concat([df_majority , negative_upsample])  # concat two data frames i,e majority class data set and upsampled minority class data set\n",
        "df_upsampled = df_upsampled.sample(frac = 1)"
      ],
      "metadata": {
        "id": "yHJTAqrW7XMN"
      },
      "id": "yHJTAqrW7XMN",
      "execution_count": null,
      "outputs": []
    },
    {
      "cell_type": "code",
      "source": [
        "df_upsampled"
      ],
      "metadata": {
        "colab": {
          "base_uri": "https://localhost:8080/",
          "height": 424
        },
        "id": "w8MkRXwkCOQn",
        "outputId": "0c9c8681-a350-4e57-d20d-651a412dedff"
      },
      "id": "w8MkRXwkCOQn",
      "execution_count": null,
      "outputs": [
        {
          "output_type": "execute_result",
          "data": {
            "text/plain": [
              "                                                  review sentiment\n",
              "15633  That is the promise of the trailer I saw and b...  positive\n",
              "20757  As I was watching this movie I was thinking,OK...  negative\n",
              "14270  I posted on IMDb on this series recently, givi...  positive\n",
              "19958  I caught this movie about 8 years ago, and hav...  positive\n",
              "1168   Ayone who whines about how this movie was crap...  positive\n",
              "...                                                  ...       ...\n",
              "19237  Apparently this was an award winner. Apparentl...  negative\n",
              "2526   I was impressed by the beautiful photography i...  positive\n",
              "11914  I took this out arbitrarily from the library t...  positive\n",
              "14673  A girl is showering unknowing that a serial ra...  negative\n",
              "13146  This movie is dated in so many ways, it's sens...  negative\n",
              "\n",
              "[24948 rows x 2 columns]"
            ],
            "text/html": [
              "\n",
              "  <div id=\"df-31a32d6e-8023-483e-a73c-c166987ba71c\">\n",
              "    <div class=\"colab-df-container\">\n",
              "      <div>\n",
              "<style scoped>\n",
              "    .dataframe tbody tr th:only-of-type {\n",
              "        vertical-align: middle;\n",
              "    }\n",
              "\n",
              "    .dataframe tbody tr th {\n",
              "        vertical-align: top;\n",
              "    }\n",
              "\n",
              "    .dataframe thead th {\n",
              "        text-align: right;\n",
              "    }\n",
              "</style>\n",
              "<table border=\"1\" class=\"dataframe\">\n",
              "  <thead>\n",
              "    <tr style=\"text-align: right;\">\n",
              "      <th></th>\n",
              "      <th>review</th>\n",
              "      <th>sentiment</th>\n",
              "    </tr>\n",
              "  </thead>\n",
              "  <tbody>\n",
              "    <tr>\n",
              "      <th>15633</th>\n",
              "      <td>That is the promise of the trailer I saw and b...</td>\n",
              "      <td>positive</td>\n",
              "    </tr>\n",
              "    <tr>\n",
              "      <th>20757</th>\n",
              "      <td>As I was watching this movie I was thinking,OK...</td>\n",
              "      <td>negative</td>\n",
              "    </tr>\n",
              "    <tr>\n",
              "      <th>14270</th>\n",
              "      <td>I posted on IMDb on this series recently, givi...</td>\n",
              "      <td>positive</td>\n",
              "    </tr>\n",
              "    <tr>\n",
              "      <th>19958</th>\n",
              "      <td>I caught this movie about 8 years ago, and hav...</td>\n",
              "      <td>positive</td>\n",
              "    </tr>\n",
              "    <tr>\n",
              "      <th>1168</th>\n",
              "      <td>Ayone who whines about how this movie was crap...</td>\n",
              "      <td>positive</td>\n",
              "    </tr>\n",
              "    <tr>\n",
              "      <th>...</th>\n",
              "      <td>...</td>\n",
              "      <td>...</td>\n",
              "    </tr>\n",
              "    <tr>\n",
              "      <th>19237</th>\n",
              "      <td>Apparently this was an award winner. Apparentl...</td>\n",
              "      <td>negative</td>\n",
              "    </tr>\n",
              "    <tr>\n",
              "      <th>2526</th>\n",
              "      <td>I was impressed by the beautiful photography i...</td>\n",
              "      <td>positive</td>\n",
              "    </tr>\n",
              "    <tr>\n",
              "      <th>11914</th>\n",
              "      <td>I took this out arbitrarily from the library t...</td>\n",
              "      <td>positive</td>\n",
              "    </tr>\n",
              "    <tr>\n",
              "      <th>14673</th>\n",
              "      <td>A girl is showering unknowing that a serial ra...</td>\n",
              "      <td>negative</td>\n",
              "    </tr>\n",
              "    <tr>\n",
              "      <th>13146</th>\n",
              "      <td>This movie is dated in so many ways, it's sens...</td>\n",
              "      <td>negative</td>\n",
              "    </tr>\n",
              "  </tbody>\n",
              "</table>\n",
              "<p>24948 rows × 2 columns</p>\n",
              "</div>\n",
              "      <button class=\"colab-df-convert\" onclick=\"convertToInteractive('df-31a32d6e-8023-483e-a73c-c166987ba71c')\"\n",
              "              title=\"Convert this dataframe to an interactive table.\"\n",
              "              style=\"display:none;\">\n",
              "        \n",
              "  <svg xmlns=\"http://www.w3.org/2000/svg\" height=\"24px\"viewBox=\"0 0 24 24\"\n",
              "       width=\"24px\">\n",
              "    <path d=\"M0 0h24v24H0V0z\" fill=\"none\"/>\n",
              "    <path d=\"M18.56 5.44l.94 2.06.94-2.06 2.06-.94-2.06-.94-.94-2.06-.94 2.06-2.06.94zm-11 1L8.5 8.5l.94-2.06 2.06-.94-2.06-.94L8.5 2.5l-.94 2.06-2.06.94zm10 10l.94 2.06.94-2.06 2.06-.94-2.06-.94-.94-2.06-.94 2.06-2.06.94z\"/><path d=\"M17.41 7.96l-1.37-1.37c-.4-.4-.92-.59-1.43-.59-.52 0-1.04.2-1.43.59L10.3 9.45l-7.72 7.72c-.78.78-.78 2.05 0 2.83L4 21.41c.39.39.9.59 1.41.59.51 0 1.02-.2 1.41-.59l7.78-7.78 2.81-2.81c.8-.78.8-2.07 0-2.86zM5.41 20L4 18.59l7.72-7.72 1.47 1.35L5.41 20z\"/>\n",
              "  </svg>\n",
              "      </button>\n",
              "      \n",
              "  <style>\n",
              "    .colab-df-container {\n",
              "      display:flex;\n",
              "      flex-wrap:wrap;\n",
              "      gap: 12px;\n",
              "    }\n",
              "\n",
              "    .colab-df-convert {\n",
              "      background-color: #E8F0FE;\n",
              "      border: none;\n",
              "      border-radius: 50%;\n",
              "      cursor: pointer;\n",
              "      display: none;\n",
              "      fill: #1967D2;\n",
              "      height: 32px;\n",
              "      padding: 0 0 0 0;\n",
              "      width: 32px;\n",
              "    }\n",
              "\n",
              "    .colab-df-convert:hover {\n",
              "      background-color: #E2EBFA;\n",
              "      box-shadow: 0px 1px 2px rgba(60, 64, 67, 0.3), 0px 1px 3px 1px rgba(60, 64, 67, 0.15);\n",
              "      fill: #174EA6;\n",
              "    }\n",
              "\n",
              "    [theme=dark] .colab-df-convert {\n",
              "      background-color: #3B4455;\n",
              "      fill: #D2E3FC;\n",
              "    }\n",
              "\n",
              "    [theme=dark] .colab-df-convert:hover {\n",
              "      background-color: #434B5C;\n",
              "      box-shadow: 0px 1px 3px 1px rgba(0, 0, 0, 0.15);\n",
              "      filter: drop-shadow(0px 1px 2px rgba(0, 0, 0, 0.3));\n",
              "      fill: #FFFFFF;\n",
              "    }\n",
              "  </style>\n",
              "\n",
              "      <script>\n",
              "        const buttonEl =\n",
              "          document.querySelector('#df-31a32d6e-8023-483e-a73c-c166987ba71c button.colab-df-convert');\n",
              "        buttonEl.style.display =\n",
              "          google.colab.kernel.accessAllowed ? 'block' : 'none';\n",
              "\n",
              "        async function convertToInteractive(key) {\n",
              "          const element = document.querySelector('#df-31a32d6e-8023-483e-a73c-c166987ba71c');\n",
              "          const dataTable =\n",
              "            await google.colab.kernel.invokeFunction('convertToInteractive',\n",
              "                                                     [key], {});\n",
              "          if (!dataTable) return;\n",
              "\n",
              "          const docLinkHtml = 'Like what you see? Visit the ' +\n",
              "            '<a target=\"_blank\" href=https://colab.research.google.com/notebooks/data_table.ipynb>data table notebook</a>'\n",
              "            + ' to learn more about interactive tables.';\n",
              "          element.innerHTML = '';\n",
              "          dataTable['output_type'] = 'display_data';\n",
              "          await google.colab.output.renderOutput(dataTable, element);\n",
              "          const docLink = document.createElement('div');\n",
              "          docLink.innerHTML = docLinkHtml;\n",
              "          element.appendChild(docLink);\n",
              "        }\n",
              "      </script>\n",
              "    </div>\n",
              "  </div>\n",
              "  "
            ]
          },
          "metadata": {},
          "execution_count": 6
        }
      ]
    },
    {
      "cell_type": "code",
      "execution_count": null,
      "id": "6a9329bb",
      "metadata": {
        "id": "6a9329bb",
        "colab": {
          "base_uri": "https://localhost:8080/"
        },
        "outputId": "f44b3215-ea34-481f-aca3-d732dc038b61"
      },
      "outputs": [
        {
          "output_type": "stream",
          "name": "stdout",
          "text": [
            "Shape of dataframe having negative as class label is (12474, 2)\n"
          ]
        }
      ],
      "source": [
        "## Just to ensure that upsampling was done successfully, take a look at the shape of the data in \n",
        "## this cell. \n",
        "# print the shape of data set with the help of shape function having \"negative\" as class label\n",
        "print('Shape of dataframe having negative as class label is' , df_upsampled[df_upsampled['sentiment'] == 'negative'].shape)"
      ]
    },
    {
      "cell_type": "markdown",
      "id": "6f8bf6e7",
      "metadata": {
        "id": "6f8bf6e7"
      },
      "source": [
        "### Expected Output : \n",
        "(12474, 2)"
      ]
    },
    {
      "cell_type": "code",
      "execution_count": null,
      "id": "bdea8155",
      "metadata": {
        "colab": {
          "base_uri": "https://localhost:8080/"
        },
        "id": "bdea8155",
        "outputId": "d3425fdc-58ef-4733-c97a-3cd08442a9bf"
      },
      "outputs": [
        {
          "output_type": "stream",
          "name": "stdout",
          "text": [
            "Shape of dataframe having positive as class label is (12474, 2)\n"
          ]
        }
      ],
      "source": [
        "## Ensure that the same number of data points are present for both 'positive' and 'negative' data\n",
        "\n",
        "# print the shape of data set with the help of shape function having \"positive\" as class label\n",
        "print('Shape of dataframe having positive as class label is' , df_upsampled[df_upsampled['sentiment'] == 'positive'].shape)"
      ]
    },
    {
      "cell_type": "markdown",
      "id": "626f01d5",
      "metadata": {
        "id": "626f01d5"
      },
      "source": [
        "### Expected Output : \n",
        "(12474, 2)"
      ]
    },
    {
      "cell_type": "code",
      "source": [
        "## In this cell, we are going to be dividing the data into train and test points\n",
        "## Ensure that you store the upsampled data in a variable called 'df_upsampled' \n",
        "## so that the below operations are performed successfully\n",
        "\n",
        "\n",
        "## Considering 10000 positive and 10000 negative data points\n",
        "negative_data_points_train = df_upsampled[df_upsampled['sentiment'] == 'negative'].iloc[:10000]\n",
        "positive_data_points_train = df_upsampled[df_upsampled['sentiment'] == 'positive'].iloc[:10000]\n",
        "\n",
        "## Considering the remaining data points for test\n",
        "negative_data_points_test = df_upsampled[df_upsampled['sentiment'] == 'negative'].iloc[10000:]\n",
        "positive_data_points_test = df_upsampled[df_upsampled['sentiment'] == 'positive'].iloc[10000:]\n",
        "\n",
        "## Concatenate the training positive and negative reviews\n",
        "X_train = pd.concat([positive_data_points_train['review'] , negative_data_points_train['review']])\n",
        "## Concatenating the training positive and negative outputs\n",
        "y_train = pd.concat([negative_data_points_train['sentiment'] , positive_data_points_train['sentiment']])\n",
        "\n",
        "## Concatenating the test positive and negative reviews\n",
        "X_test = pd.concat([positive_data_points_test['review'] , negative_data_points_test['review']])\n",
        "## Concatenating the test positive and negative outputs\n",
        "y_test = pd.concat([negative_data_points_test['sentiment'] , positive_data_points_test['sentiment']])\n"
      ],
      "metadata": {
        "id": "NoW5z6SzAeP8"
      },
      "execution_count": null,
      "outputs": [],
      "id": "NoW5z6SzAeP8"
    },
    {
      "cell_type": "code",
      "execution_count": null,
      "id": "6428047d",
      "metadata": {
        "colab": {
          "base_uri": "https://localhost:8080/"
        },
        "id": "6428047d",
        "outputId": "83d80bfb-1d51-40fe-abcd-0e767583dd2a"
      },
      "outputs": [
        {
          "output_type": "execute_result",
          "data": {
            "text/plain": [
              "negative    10000\n",
              "positive    10000\n",
              "Name: sentiment, dtype: int64"
            ]
          },
          "metadata": {},
          "execution_count": 10
        }
      ],
      "source": [
        "## Take a look at the total number of classes and their count using '.value_counts()' for y_train and y_test.\n",
        "## Ensure that there are equal number of positive and negative reviews. \n",
        "y_train.value_counts()"
      ]
    },
    {
      "cell_type": "markdown",
      "id": "7dfe6517",
      "metadata": {
        "id": "7dfe6517"
      },
      "source": [
        "### Expected Output:\n",
        "negative    10000<br>\n",
        "positive    10000<br>\n",
        "Name: sentiment, dtype: int64"
      ]
    },
    {
      "cell_type": "code",
      "execution_count": null,
      "id": "2beae1d6",
      "metadata": {
        "colab": {
          "base_uri": "https://localhost:8080/"
        },
        "id": "2beae1d6",
        "outputId": "8c4984cb-0c7e-4296-ce55-b40654c0c651"
      },
      "outputs": [
        {
          "output_type": "execute_result",
          "data": {
            "text/plain": [
              "negative    2474\n",
              "positive    2474\n",
              "Name: sentiment, dtype: int64"
            ]
          },
          "metadata": {},
          "execution_count": 11
        }
      ],
      "source": [
        "y_test.value_counts()"
      ]
    },
    {
      "cell_type": "markdown",
      "id": "9163f897",
      "metadata": {
        "id": "9163f897"
      },
      "source": [
        "### Expected Output : \n",
        "negative    2474<br>\n",
        "positive    2474<br>\n",
        "Name: sentiment, dtype: int64"
      ]
    },
    {
      "cell_type": "markdown",
      "id": "6501699b",
      "metadata": {
        "id": "6501699b"
      },
      "source": [
        "## Pre-process the reviews\n",
        "\n",
        "We know that a review contains links, punctuation, stopwords and many other words that don't give a lot of meaning for the Naive Bayes model for prediction. \n",
        "\n",
        "In the cell below, one must implement text-preprocessing and remove links, punctuations and stopwords. It is also important to lowercase the letters so that 'Admire' and 'admire' are not treated as different words. \n",
        "\n",
        "In addition to this, perform stemming operation so that similar words are reduced. To know more about stemming, feel free to take a look at this link.\n",
        "\n",
        "https://nlp.stanford.edu/IR-book/html/htmledition/stemming-and-lemmatization-1.html"
      ]
    },
    {
      "cell_type": "code",
      "source": [
        "# TASK CELL\n",
        "\n",
        "def clean_review(review):\n",
        "    '''\n",
        "    Input:\n",
        "        review: a string containing a review.\n",
        "    Output:\n",
        "        review_cleaned: a processed review. \n",
        "\n",
        "    '''\n",
        "    review = review.lower() #Converting the review to lowercase\n",
        "    review = re.sub(r'[^\\w\\s]', '', review) #Removing the punctuations in the reviews using regex\n",
        "    review = re.sub(r'https?://\\S+|www\\.\\S+', '', review) #Removing the links in the review using regex\n",
        "    review_cleaned = word_tokenize(review) #This function is to tokenize the review\n",
        "    review_cleaned = [r for r in review_cleaned if r not in stopwords.words(\"english\")] #Removing the stop words from the list of tokens\n",
        "    #ps = PorterStemmer()\n",
        "    wn = nltk.WordNetLemmatizer()\n",
        "    review_cleaned = [wn.lemmatize(x) for x in review_cleaned] #This function is to lemmatize the review\n",
        "    review_cleaned = ' '.join(word for word in review_cleaned)\n",
        "\n",
        "\n",
        "    return review_cleaned\n",
        "\n"
      ],
      "metadata": {
        "id": "CirLN9-ddQ1r"
      },
      "id": "CirLN9-ddQ1r",
      "execution_count": null,
      "outputs": []
    },
    {
      "cell_type": "code",
      "source": [
        "clean_review(X_train[1032])"
      ],
      "metadata": {
        "colab": {
          "base_uri": "https://localhost:8080/",
          "height": 87
        },
        "id": "KjCO2ygb4Ekx",
        "outputId": "51b33a63-4be9-4e58-ea2e-e691dd39e7a9"
      },
      "id": "KjCO2ygb4Ekx",
      "execution_count": null,
      "outputs": [
        {
          "output_type": "execute_result",
          "data": {
            "text/plain": [
              "'although fan heather thomas old bikini poster around somewhere honestly say movie ever seen cyclone would never able guess made far show businessbr br directed fred olen ray good omen seeing buzzard circle head desert tale woman thomas must protect hightech motorcycle unscrupulous type b movie get fred olens case b minusbr br cast tell something every movie combine thomas actor calibre beswick hall comb donahue tamblyn landau youre lucky movie even though seem fun shouldnt fun passed audience vote yes seems voted nobr br course ever wanted see heather deliver uppercut another woman use f word get hooked battery cable youve probably looking one ill content old fall guy rerunsbr br one star given hope another cyclone hit town heather run shelter know'"
            ],
            "application/vnd.google.colaboratory.intrinsic+json": {
              "type": "string"
            }
          },
          "metadata": {},
          "execution_count": 17
        }
      ]
    },
    {
      "cell_type": "markdown",
      "id": "a7632fe5",
      "metadata": {
        "id": "a7632fe5"
      },
      "source": [
        "## Implement a find_occurrence function\n",
        "\n",
        "In this function, we find the total occurrence of a word giving information such as label, word and frequency dictionary.\n",
        "\n",
        "Note that this function is used later in the code when we are going to be predicting the output using Naive Bayes. "
      ]
    },
    {
      "cell_type": "code",
      "execution_count": null,
      "id": "eb282b81",
      "metadata": {
        "id": "eb282b81"
      },
      "outputs": [],
      "source": [
        "# TASK CELL\n",
        "def find_occurrence(frequency, word, label):\n",
        "    '''\n",
        "    Params:\n",
        "        frequency: a dictionary with the frequency of each pair (or tuple)\n",
        "        word: the word to look up\n",
        "        label: the label corresponding to the word\n",
        "    Return:\n",
        "        n: the number of times the word with its corresponding label appears.\n",
        "    '''\n",
        "    pair = (word, label)\n",
        "    if pair in frequency:\n",
        "        n = frequency[pair]\n",
        "    else:\n",
        "        n = 0\n",
        "\n",
        "    return n"
      ]
    },
    {
      "cell_type": "markdown",
      "id": "29a2249d",
      "metadata": {
        "id": "29a2249d"
      },
      "source": [
        "### Converting output to numerical format:\n",
        "\n",
        "We have outputs as 'positive' or 'negative'. In the cell below, we convert it to a numerical format. "
      ]
    },
    {
      "cell_type": "code",
      "execution_count": null,
      "id": "bcdc2b2c",
      "metadata": {
        "id": "bcdc2b2c"
      },
      "outputs": [],
      "source": [
        "## With the use of mapping function, we replace\n",
        "## the label in the form of string to an integer. \n",
        "\n",
        "output_map = {'positive': 0, 'negative': 1}\n",
        "y_train = y_train.map(output_map)\n",
        "y_test = y_test.map(output_map)"
      ]
    },
    {
      "cell_type": "code",
      "execution_count": null,
      "id": "3dde0bbd",
      "metadata": {
        "colab": {
          "base_uri": "https://localhost:8080/"
        },
        "id": "3dde0bbd",
        "outputId": "da01ed90-19f7-43a3-d00b-12168e2f48c9"
      },
      "outputs": [
        {
          "output_type": "execute_result",
          "data": {
            "text/plain": [
              "1    10000\n",
              "0    10000\n",
              "Name: sentiment, dtype: int64"
            ]
          },
          "metadata": {},
          "execution_count": 20
        }
      ],
      "source": [
        "## Ensuring that there are equal number of classes on the training data. \n",
        "y_train.value_counts()"
      ]
    },
    {
      "cell_type": "code",
      "execution_count": null,
      "id": "f2959b85",
      "metadata": {
        "colab": {
          "base_uri": "https://localhost:8080/",
          "height": 87
        },
        "id": "f2959b85",
        "outputId": "132a05ff-aa51-41b6-a12b-5663c34239ec"
      },
      "outputs": [
        {
          "output_type": "execute_result",
          "data": {
            "text/plain": [
              "'That is the promise of the trailer I saw and by which I rented Hitch. Exactly, a serious film viewer shall not expect much further from this title but, surprisingly enough, Smith, Mendes, James and Valletta managed to reach a theatrical performance which could be metaphorically summarised on their rap dance-floor routine by the end of the film: their characters formed an effective combo which may prompt more than a good laugh with this Sunday afternoon DVD, providing your date is not an exquisite, french-swedish-directors-of-the-60\\'s movie fan.<br /><br />P.S.: The techniques to score are all TRUE, especially the \"cocktail girl\" routine!'"
            ],
            "application/vnd.google.colaboratory.intrinsic+json": {
              "type": "string"
            }
          },
          "metadata": {},
          "execution_count": 21
        }
      ],
      "source": [
        "## Choosing a random review and taking a look at it.\n",
        "X_train.iloc[0]"
      ]
    },
    {
      "cell_type": "markdown",
      "id": "ed5e43c9",
      "metadata": {
        "id": "ed5e43c9"
      },
      "source": [
        "From the above cell output, it could be seen that there are a lot of words that don't add a lot of meaning to the text. \n",
        "\n",
        "Therefore, those words would be removed. It also reduces the computation time. \n",
        "\n",
        "Therefore, it is a good practice we are following."
      ]
    },
    {
      "cell_type": "code",
      "execution_count": null,
      "id": "ad3937ea",
      "metadata": {
        "colab": {
          "base_uri": "https://localhost:8080/"
        },
        "id": "ad3937ea",
        "outputId": "0eb67d7b-e60a-419d-a411-a8e787af7915"
      },
      "outputs": [
        {
          "output_type": "stream",
          "name": "stdout",
          "text": [
            "promise trailer saw rented hitch exactly serious film viewer shall expect much title surprisingly enough smith mendes james valletta managed reach theatrical performance could metaphorically summarised rap dancefloor routine end film character formed effective combo may prompt good laugh sunday afternoon dvd providing date exquisite frenchswedishdirectorsofthe60s movie fanbr br p technique score true especially cocktail girl routine\n"
          ]
        }
      ],
      "source": [
        "custom_review = X_train.iloc[0]\n",
        "\n",
        "# print cleaned review\n",
        "print(clean_review(custom_review))"
      ]
    },
    {
      "cell_type": "markdown",
      "id": "3e6cc440",
      "metadata": {
        "id": "3e6cc440"
      },
      "source": [
        "We now use this function to pre-process the review and remove words that don't add a lot of meaning in our model. "
      ]
    },
    {
      "cell_type": "markdown",
      "id": "5a762960",
      "metadata": {
        "id": "5a762960"
      },
      "source": [
        "## Implementing review counter function\n",
        "\n",
        "It is now time to implement the count function for the reviews. \n",
        "\n",
        "In this function, we count the occurrence of words and get the probabilities \n",
        "for the words based on the training data. \n",
        "\n",
        "In other words, we get the probability of occurrence of a word, given that the output is 'positive'.\n",
        "\n",
        "Similarly, we also compute the probability of occurence of a word, given that the output is 'negative'.\n",
        "\n"
      ]
    },
    {
      "cell_type": "code",
      "execution_count": null,
      "id": "5de61f77",
      "metadata": {
        "id": "5de61f77"
      },
      "outputs": [],
      "source": [
        "# TASK CELL\n",
        "def review_counter(output_occurrence, reviews, positive_or_negative):\n",
        "    '''\n",
        "    Params:\n",
        "        output_occurrence: a dictionary that will be used to map each pair to its frequency\n",
        "        reviews: a list of reviews\n",
        "        positive_or_negative: a list corresponding to the sentiment of each review (either 0 or 1)\n",
        "    Return:\n",
        "        output: a dictionary mapping each pair to its frequency\n",
        "    '''\n",
        "    ## Steps :\n",
        "    # define the key, which is the word and label tuple\n",
        "    # if the key exists in the dictionary, increment the count\n",
        "    # else, if the key is new, add it to the dictionary and set the count to 1\n",
        "    \n",
        "    for label, review in zip(positive_or_negative, reviews):\n",
        "      split_review = clean_review(review).split()\n",
        "      for word in split_review:\n",
        "          if (word, label) in output_occurrence:\n",
        "                   output_occurrence[(word,label)] += 1\n",
        "          else:\n",
        "                output_occurrence[(word,label)] = 1\n",
        "\n",
        "    return output_occurrence\n",
        "   \n"
      ]
    },
    {
      "cell_type": "markdown",
      "id": "18238223",
      "metadata": {
        "id": "18238223"
      },
      "source": [
        "### Test your function with example reviews:\n",
        "\n",
        "Feel free to run the cell below and understand whether the above function that you have defined is producing the optimum results. "
      ]
    },
    {
      "cell_type": "code",
      "execution_count": null,
      "id": "07a4c58a",
      "metadata": {
        "colab": {
          "base_uri": "https://localhost:8080/"
        },
        "id": "07a4c58a",
        "outputId": "65b41304-fce0-4783-c1d3-37b3d7090505"
      },
      "outputs": [
        {
          "output_type": "execute_result",
          "data": {
            "text/plain": [
              "{('bored', 1): 2,\n",
              " ('complete', 1): 1,\n",
              " ('enjoyed', 0): 1,\n",
              " ('fantastic', 0): 1,\n",
              " ('fullest', 0): 1,\n",
              " ('got', 1): 1,\n",
              " ('money', 1): 1,\n",
              " ('movie', 0): 2,\n",
              " ('moview', 1): 1,\n",
              " ('throught', 1): 1,\n",
              " ('time', 1): 1,\n",
              " ('waste', 1): 1,\n",
              " ('watch', 1): 1}"
            ]
          },
          "metadata": {},
          "execution_count": 24
        }
      ],
      "source": [
        "# Testing your function\n",
        "\n",
        "result = {}\n",
        "reviews = ['got bored throught the moview', 'The movie was fantastic', 'Will not watch it again', 'Was bored, it was a complete waste of time and money', 'Enjoyed the movie to the fullest']\n",
        "ys = [1, 0, 1, 1, 0]\n",
        "review_counter(result,reviews, ys)"
      ]
    },
    {
      "cell_type": "markdown",
      "id": "927f89bb",
      "metadata": {
        "id": "927f89bb"
      },
      "source": [
        "### Expected Output:\n",
        " {('bored', 1): 2, <br>\n",
        " ('complete', 1): 1, <br>\n",
        " ('enjoyed', 0): 1, <br>\n",
        " ('fantastic', 0): 1, <br>\n",
        " ('fullest', 0): 1, <br>\n",
        " ('got', 1): 1, <br>\n",
        " ('money', 1): 1, <br>\n",
        " ('movie', 0): 2, <br>\n",
        " ('moview', 1): 1, <br>\n",
        " ('throught', 1): 1, <br>\n",
        " ('time', 1): 1, <br>\n",
        " ('waste', 1): 1, <br>\n",
        " ('watch', 1): 1}"
      ]
    },
    {
      "cell_type": "code",
      "execution_count": null,
      "id": "9bc62e13",
      "metadata": {
        "id": "9bc62e13"
      },
      "outputs": [],
      "source": [
        "# Build the freqs dictionary for later uses \n",
        "\n",
        "freqs = review_counter({}, X_train, y_train)"
      ]
    },
    {
      "cell_type": "code",
      "execution_count": null,
      "id": "0eddf420",
      "metadata": {
        "id": "0eddf420"
      },
      "outputs": [],
      "source": [
        "## Run this cell to get an idea about the corpus of words and their occurrence along with labels. \n",
        "## In this, we are computing the frequency of occurrence of word given that a review is 'positive'.\n",
        "## Similarly, we also compute the frequence of occurence of word given that a review is 'negative'.\n",
        "freqs"
      ]
    },
    {
      "cell_type": "markdown",
      "id": "759c24bc",
      "metadata": {
        "id": "759c24bc"
      },
      "source": [
        "##Training the Naive Bayes Model\n",
        "\n",
        "Now we are in the training phase of the Naive Bayes algorithm. In this cell, take a look at the ways to calculate the log likelihood and log prior values as these are important for testing in the next few cells. \n",
        "\n",
        "Also calculate the frequency of occurrence of words where the output is negative. In the same way, calculate the word frequency count using the above functions in order to compute the log likelihood.\n",
        "\n",
        "Return the logprior and loglikelihood output by the model from this function. "
      ]
    },
    {
      "cell_type": "code",
      "execution_count": null,
      "id": "a7f280e3",
      "metadata": {
        "id": "a7f280e3"
      },
      "outputs": [],
      "source": [
        "def train_naive_bayes(freqs, train_x, train_y):\n",
        "    '''\n",
        "    Input:\n",
        "        freqs: dictionary from (word, label) to how often the word appears\n",
        "        train_x: a list of reviews\n",
        "        train_y: a list of labels correponding to the reviews (0,1)\n",
        "    Output:\n",
        "        logprior: the log prior. (equation 3 above)\n",
        "        loglikelihood: the log likelihood of you Naive bayes equation. (equation 6 above)\n",
        "    '''\n",
        "    loglikelihood = {}\n",
        "    logprior = 0\n",
        "\n",
        "\n",
        "    # calculate V, the number of unique words in the vocabulary\n",
        "    vocab = np.unique(np.array(list(freqs.keys()))[:, 0])\n",
        "    V = len(vocab)\n",
        "\n",
        "    # calculate num_pos and num_neg - the total number of positive and negative words for all documents\n",
        "    num_pos = num_neg = 0\n",
        "    for pair in freqs.keys():\n",
        "        # if the label is positive (greater than zero)\n",
        "        if pair[1] == 0:\n",
        "            # Increment the number of positive words by the count for this (word, label) pair\n",
        "            num_pos += freqs[pair]\n",
        "\n",
        "        # else, the label is negative\n",
        "        else:\n",
        "\n",
        "            # increment the number of negative words by the count for this (word,label) pair\n",
        "            num_neg += freqs[pair]\n",
        "\n",
        "    # Calculate num_doc, the number of documents\n",
        "    num_doc = train_y.shape[0]\n",
        "    # Calculate D_pos, the number of positive documents \n",
        "    pos_num_docs = sum(train_y == 1)\n",
        "\n",
        "    # Calculate D_neg, the number of negative documents \n",
        "    neg_num_docs = sum(train_y == 0)\n",
        "\n",
        "    # Calculate logprior\n",
        "    prob_positive = pos_num_docs/num_doc\n",
        "    prob_negative = neg_num_docs/num_doc\n",
        "    logprior = np.log(prob_positive) - np.log(prob_negative)\n",
        "\n",
        "    # For each word in the vocabulary...\n",
        "    for word in vocab:\n",
        "        # get the positive and negative frequency of the word\n",
        "        freq_pos = find_occurrence(freqs, word, 0)\n",
        "        freq_neg = find_occurrence(freqs, word, 1)\n",
        "\n",
        "        # calculate the probability that each word is positive, and negative\n",
        "        p_w_pos = (freq_pos+1)/(num_pos+V)\n",
        "        p_w_neg = (freq_neg+1)/(num_neg+V)\n",
        "\n",
        "        # calculate the log likelihood of the word\n",
        "        loglikelihood[word] = np.log(p_w_pos) - np.log(p_w_neg)\n",
        "\n",
        "\n",
        "    return logprior, loglikelihood"
      ]
    },
    {
      "cell_type": "code",
      "execution_count": null,
      "id": "1561d892",
      "metadata": {
        "id": "1561d892",
        "colab": {
          "base_uri": "https://localhost:8080/"
        },
        "outputId": "9f115122-0b6f-49c0-97fe-d3957ac1ac65"
      },
      "outputs": [
        {
          "output_type": "stream",
          "name": "stdout",
          "text": [
            "0.0\n",
            "92204\n"
          ]
        }
      ],
      "source": [
        "# You do not have to input any code in this cell, but it is relevant to grading, so please do not change anything\n",
        "logprior, loglikelihood = train_naive_bayes(freqs, X_train, y_train)\n",
        "print(logprior)\n",
        "print(len(loglikelihood))"
      ]
    },
    {
      "cell_type": "markdown",
      "id": "19d9c882",
      "metadata": {
        "id": "19d9c882"
      },
      "source": [
        "### Expected Output \n",
        "\n",
        "0.0 <br>\n",
        "91425"
      ]
    },
    {
      "cell_type": "code",
      "source": [
        "loglikelihood = pd.DataFrame(loglikelihood.items())\n",
        "loglikelihood.to_csv('loglikelihood_values.csv', index = False, header=True) #To create a local file for question 8"
      ],
      "metadata": {
        "id": "aTBHIl6GT2Ed"
      },
      "id": "aTBHIl6GT2Ed",
      "execution_count": null,
      "outputs": []
    },
    {
      "cell_type": "code",
      "source": [
        "loglikelihood"
      ],
      "metadata": {
        "colab": {
          "base_uri": "https://localhost:8080/",
          "height": 424
        },
        "id": "on6A98T-D_ha",
        "outputId": "e1f5961c-2bbd-4106-bd34-5bbea8e6cd39"
      },
      "id": "on6A98T-D_ha",
      "execution_count": null,
      "outputs": [
        {
          "output_type": "execute_result",
          "data": {
            "text/plain": [
              "              0         1\n",
              "0             0  2.066134\n",
              "1            00  0.430379\n",
              "2      00000001  0.718061\n",
              "3        000001  1.411208\n",
              "4      00000110  1.411208\n",
              "...         ...       ...\n",
              "92199       ãon  0.718061\n",
              "92200        ãs -0.668233\n",
              "92201  ãtcother -0.668233\n",
              "92202  ãzã¼mcã¼  0.718061\n",
              "92203     ã¼ber  0.430379\n",
              "\n",
              "[92204 rows x 2 columns]"
            ],
            "text/html": [
              "\n",
              "  <div id=\"df-fe357726-d9e6-4fe2-ab6e-81d7c61d64f5\">\n",
              "    <div class=\"colab-df-container\">\n",
              "      <div>\n",
              "<style scoped>\n",
              "    .dataframe tbody tr th:only-of-type {\n",
              "        vertical-align: middle;\n",
              "    }\n",
              "\n",
              "    .dataframe tbody tr th {\n",
              "        vertical-align: top;\n",
              "    }\n",
              "\n",
              "    .dataframe thead th {\n",
              "        text-align: right;\n",
              "    }\n",
              "</style>\n",
              "<table border=\"1\" class=\"dataframe\">\n",
              "  <thead>\n",
              "    <tr style=\"text-align: right;\">\n",
              "      <th></th>\n",
              "      <th>0</th>\n",
              "      <th>1</th>\n",
              "    </tr>\n",
              "  </thead>\n",
              "  <tbody>\n",
              "    <tr>\n",
              "      <th>0</th>\n",
              "      <td>0</td>\n",
              "      <td>2.066134</td>\n",
              "    </tr>\n",
              "    <tr>\n",
              "      <th>1</th>\n",
              "      <td>00</td>\n",
              "      <td>0.430379</td>\n",
              "    </tr>\n",
              "    <tr>\n",
              "      <th>2</th>\n",
              "      <td>00000001</td>\n",
              "      <td>0.718061</td>\n",
              "    </tr>\n",
              "    <tr>\n",
              "      <th>3</th>\n",
              "      <td>000001</td>\n",
              "      <td>1.411208</td>\n",
              "    </tr>\n",
              "    <tr>\n",
              "      <th>4</th>\n",
              "      <td>00000110</td>\n",
              "      <td>1.411208</td>\n",
              "    </tr>\n",
              "    <tr>\n",
              "      <th>...</th>\n",
              "      <td>...</td>\n",
              "      <td>...</td>\n",
              "    </tr>\n",
              "    <tr>\n",
              "      <th>92199</th>\n",
              "      <td>ãon</td>\n",
              "      <td>0.718061</td>\n",
              "    </tr>\n",
              "    <tr>\n",
              "      <th>92200</th>\n",
              "      <td>ãs</td>\n",
              "      <td>-0.668233</td>\n",
              "    </tr>\n",
              "    <tr>\n",
              "      <th>92201</th>\n",
              "      <td>ãtcother</td>\n",
              "      <td>-0.668233</td>\n",
              "    </tr>\n",
              "    <tr>\n",
              "      <th>92202</th>\n",
              "      <td>ãzã¼mcã¼</td>\n",
              "      <td>0.718061</td>\n",
              "    </tr>\n",
              "    <tr>\n",
              "      <th>92203</th>\n",
              "      <td>ã¼ber</td>\n",
              "      <td>0.430379</td>\n",
              "    </tr>\n",
              "  </tbody>\n",
              "</table>\n",
              "<p>92204 rows × 2 columns</p>\n",
              "</div>\n",
              "      <button class=\"colab-df-convert\" onclick=\"convertToInteractive('df-fe357726-d9e6-4fe2-ab6e-81d7c61d64f5')\"\n",
              "              title=\"Convert this dataframe to an interactive table.\"\n",
              "              style=\"display:none;\">\n",
              "        \n",
              "  <svg xmlns=\"http://www.w3.org/2000/svg\" height=\"24px\"viewBox=\"0 0 24 24\"\n",
              "       width=\"24px\">\n",
              "    <path d=\"M0 0h24v24H0V0z\" fill=\"none\"/>\n",
              "    <path d=\"M18.56 5.44l.94 2.06.94-2.06 2.06-.94-2.06-.94-.94-2.06-.94 2.06-2.06.94zm-11 1L8.5 8.5l.94-2.06 2.06-.94-2.06-.94L8.5 2.5l-.94 2.06-2.06.94zm10 10l.94 2.06.94-2.06 2.06-.94-2.06-.94-.94-2.06-.94 2.06-2.06.94z\"/><path d=\"M17.41 7.96l-1.37-1.37c-.4-.4-.92-.59-1.43-.59-.52 0-1.04.2-1.43.59L10.3 9.45l-7.72 7.72c-.78.78-.78 2.05 0 2.83L4 21.41c.39.39.9.59 1.41.59.51 0 1.02-.2 1.41-.59l7.78-7.78 2.81-2.81c.8-.78.8-2.07 0-2.86zM5.41 20L4 18.59l7.72-7.72 1.47 1.35L5.41 20z\"/>\n",
              "  </svg>\n",
              "      </button>\n",
              "      \n",
              "  <style>\n",
              "    .colab-df-container {\n",
              "      display:flex;\n",
              "      flex-wrap:wrap;\n",
              "      gap: 12px;\n",
              "    }\n",
              "\n",
              "    .colab-df-convert {\n",
              "      background-color: #E8F0FE;\n",
              "      border: none;\n",
              "      border-radius: 50%;\n",
              "      cursor: pointer;\n",
              "      display: none;\n",
              "      fill: #1967D2;\n",
              "      height: 32px;\n",
              "      padding: 0 0 0 0;\n",
              "      width: 32px;\n",
              "    }\n",
              "\n",
              "    .colab-df-convert:hover {\n",
              "      background-color: #E2EBFA;\n",
              "      box-shadow: 0px 1px 2px rgba(60, 64, 67, 0.3), 0px 1px 3px 1px rgba(60, 64, 67, 0.15);\n",
              "      fill: #174EA6;\n",
              "    }\n",
              "\n",
              "    [theme=dark] .colab-df-convert {\n",
              "      background-color: #3B4455;\n",
              "      fill: #D2E3FC;\n",
              "    }\n",
              "\n",
              "    [theme=dark] .colab-df-convert:hover {\n",
              "      background-color: #434B5C;\n",
              "      box-shadow: 0px 1px 3px 1px rgba(0, 0, 0, 0.15);\n",
              "      filter: drop-shadow(0px 1px 2px rgba(0, 0, 0, 0.3));\n",
              "      fill: #FFFFFF;\n",
              "    }\n",
              "  </style>\n",
              "\n",
              "      <script>\n",
              "        const buttonEl =\n",
              "          document.querySelector('#df-fe357726-d9e6-4fe2-ab6e-81d7c61d64f5 button.colab-df-convert');\n",
              "        buttonEl.style.display =\n",
              "          google.colab.kernel.accessAllowed ? 'block' : 'none';\n",
              "\n",
              "        async function convertToInteractive(key) {\n",
              "          const element = document.querySelector('#df-fe357726-d9e6-4fe2-ab6e-81d7c61d64f5');\n",
              "          const dataTable =\n",
              "            await google.colab.kernel.invokeFunction('convertToInteractive',\n",
              "                                                     [key], {});\n",
              "          if (!dataTable) return;\n",
              "\n",
              "          const docLinkHtml = 'Like what you see? Visit the ' +\n",
              "            '<a target=\"_blank\" href=https://colab.research.google.com/notebooks/data_table.ipynb>data table notebook</a>'\n",
              "            + ' to learn more about interactive tables.';\n",
              "          element.innerHTML = '';\n",
              "          dataTable['output_type'] = 'display_data';\n",
              "          await google.colab.output.renderOutput(dataTable, element);\n",
              "          const docLink = document.createElement('div');\n",
              "          docLink.innerHTML = docLinkHtml;\n",
              "          element.appendChild(docLink);\n",
              "        }\n",
              "      </script>\n",
              "    </div>\n",
              "  </div>\n",
              "  "
            ]
          },
          "metadata": {},
          "execution_count": 35
        }
      ]
    },
    {
      "cell_type": "markdown",
      "id": "78b51303",
      "metadata": {
        "id": "78b51303"
      },
      "source": [
        "##Implementing Naive Bayes Predict Function\n",
        "\n",
        "It is now time to make our prediction as to whether a given review is negative or positive respectively. \n",
        "\n",
        "After adding the log likelihood values, ensure that the output is 1 (negative) if the sum of the log likelihood value is greater than 0 and 0 (positive) if the sum of the log likelihood is less than or equal to 0. "
      ]
    },
    {
      "cell_type": "code",
      "execution_count": null,
      "id": "b692c2f9",
      "metadata": {
        "id": "b692c2f9"
      },
      "outputs": [],
      "source": [
        "# TASK 4 CELL\n",
        "\n",
        "def naive_bayes_predict(review, logprior, loglikelihood):\n",
        "    '''\n",
        "    Params:\n",
        "        review: a string\n",
        "        logprior: a number\n",
        "        loglikelihood: a dictionary of words mapping to numbers\n",
        "    Return:\n",
        "        total_prob: the sum of all the loglikelihoods of each word in the review (if found in the dictionary) + logprior (a number)\n",
        "\n",
        "    '''\n",
        "      # process the review to get a list of words\n",
        "    word_l = clean_review(review).split()\n",
        "\n",
        "    # initialize probability to zero\n",
        "    total_prob = 0\n",
        "\n",
        "    # add the logprior\n",
        "    total_prob = total_prob + logprior\n",
        "\n",
        "    for word in word_l:\n",
        "\n",
        "        # check if the word exists in the loglikelihood dictionary\n",
        "        if word in loglikelihood:\n",
        "            # add the log likelihood of that word to the probability\n",
        "            total_prob = total_prob + loglikelihood[word]\n",
        "        if total_prob > 0:\n",
        "            decision = 1\n",
        "        else:\n",
        "            decision = 0\n",
        "    return decision "
      ]
    },
    {
      "cell_type": "code",
      "execution_count": null,
      "id": "4b170333",
      "metadata": {
        "id": "4b170333",
        "outputId": "9b7a2324-8099-4924-b382-9138f3f7e541",
        "colab": {
          "base_uri": "https://localhost:8080/"
        }
      },
      "outputs": [
        {
          "output_type": "stream",
          "name": "stdout",
          "text": [
            "The expected output is 1\n"
          ]
        }
      ],
      "source": [
        "# You do not have to input any code in this cell, but it is relevant to grading, so please do not change anything\n",
        "\n",
        "# Experiment with your own review.\n",
        "my_review = \"I thought this series was going to be another fun, action series with some dynamic plots and great performances. I was wrong. While I like Jamie Denton, this show is hardly worth watching at all, unless you enjoy watching some people brutalized and the actions of the agents supposedly warranted under the theme of national security. The show is great propaganda for the current government, and spews out jingoism as though we talk that way every day. After a couple of episodes, it was boring the hell out of me, and I started watching reruns of House Invaders on BBCAmerica instead. Rather watch CSI and Without a Trace, without a doubt.\"\n",
        "p = naive_bayes_predict(my_review, logprior, loglikelihood)\n",
        "print('The expected output is', p) "
      ]
    },
    {
      "cell_type": "markdown",
      "id": "6242708f",
      "metadata": {
        "id": "6242708f"
      },
      "source": [
        "### Expected Output :\n",
        "The expected output is 1"
      ]
    },
    {
      "cell_type": "markdown",
      "id": "7c4eeb71",
      "metadata": {
        "id": "7c4eeb71"
      },
      "source": [
        "##Implementing Naive Bayes Test function\n",
        "\n",
        "In this function, implement the previous functions such as naive_bayes_predict to get the predictions for the test set. \n",
        "\n",
        "In addition to this, the function should return the total number of reviews that it correctly classified as 'positive' or 'negative'. "
      ]
    },
    {
      "cell_type": "code",
      "execution_count": null,
      "id": "66a511e7",
      "metadata": {
        "id": "66a511e7"
      },
      "outputs": [],
      "source": [
        "# UNQ_C6 (UNIQUE CELL IDENTIFIER, DO NOT EDIT)\n",
        "def test_naive_bayes(test_x, test_y, logprior, loglikelihood):\n",
        "    \"\"\"\n",
        "    Input:\n",
        "        test_x: A list of reviews\n",
        "        test_y: the corresponding labels for the list of reviews\n",
        "        logprior: the logprior\n",
        "        loglikelihood: a dictionary with the loglikelihoods for each word\n",
        "    Output:\n",
        "        accuracy: (# of reviews classified correctly)/(total # of reviews)\n",
        "    \"\"\"\n",
        "    accuracy = 0  \n",
        "\n",
        "    \n",
        "    y_hats = []\n",
        "    for review in test_x:\n",
        "        # if the prediction is > 0\n",
        "        if naive_bayes_predict(review, logprior, loglikelihood) > 0:\n",
        "            # the predicted class is 1\n",
        "            y_hat_i = 1\n",
        "        else:\n",
        "            # otherwise the predicted class is 0\n",
        "            y_hat_i = 0\n",
        "\n",
        "        # append the predicted class to the list y_hats\n",
        "        y_hats.append(y_hat_i)\n",
        "\n",
        "    # error is the average of the absolute values of the differences between y_hats and test_y\n",
        "    error = np.mean(abs(y_hats - test_y))\n",
        "\n",
        "    accuracy = 1 - error\n",
        "\n",
        "\n",
        "    return accuracy , y_hats"
      ]
    },
    {
      "cell_type": "code",
      "execution_count": null,
      "id": "8a9c5d9d",
      "metadata": {
        "id": "8a9c5d9d",
        "colab": {
          "base_uri": "https://localhost:8080/"
        },
        "outputId": "9a56fd01-76ce-47ee-821f-c909319fa870"
      },
      "outputs": [
        {
          "output_type": "stream",
          "name": "stdout",
          "text": [
            "If you like original gut wrenching laughter you will like this movie. If you are young or old then y -> 0.00\n",
            "What a waste of talent. A very poor, semi-coherent, script cripples this film. Rather unimaginative  -> 1.00\n",
            "I have seen this film at least 100 times and I am still excited by it, the acting is perfect and the -> 0.00\n",
            "Cheap, amateurish, unimaginative, exploitative... but don't think it'll have redeeming amusement val -> 1.00\n"
          ]
        }
      ],
      "source": [
        "# For grading purpose only\n",
        "# You do not have to input any code in this cell, but it is relevant to grading, so please do not change anything\n",
        "\n",
        "# Run this cell to test your function\n",
        "\n",
        "for review in [\"If you like original gut wrenching laughter you will like this movie. If you are young or old then you will love this movie, hell even my mom liked it.<br /><br />Great Camp!!!\",\n",
        "                \"What a waste of talent. A very poor, semi-coherent, script cripples this film. Rather unimaginative direction, too. Some VERY faint echoes of Fargo here, but it just doesn't come off.\",\n",
        "                \"I have seen this film at least 100 times and I am still excited by it, the acting is perfect and the romance between Joe and Jean keeps me on the edge of my seat, plus I still think Bryan Brown is the tops. Brilliant Film.\",\n",
        "                \"Cheap, amateurish, unimaginative, exploitative... but don't think it'll have redeeming amusement value. About as unentertaining, uninstructive and just plain dull as a film can be.\"]:\n",
        "    p = naive_bayes_predict(review, logprior, loglikelihood)\n",
        "    print(f'{review[:100]} -> {p:.2f}')\n",
        "    "
      ]
    },
    {
      "cell_type": "markdown",
      "id": "43e2ef98",
      "metadata": {
        "id": "43e2ef98"
      },
      "source": [
        "### Expected Output :\n",
        "\n",
        "If you like original gut wrenching laughter you will like this movie. If you are young or old then y -> 0.00 <br>\n",
        "What a waste of talent. A very poor, semi-coherent, script cripples this film. Rather unimaginative  -> 1.00<br>\n",
        "I have seen this film at least 100 times and I am still excited by it, the acting is perfect and the -> 0.00 <br>\n",
        "Cheap, amateurish, unimaginative, exploitative... but don't think it'll have redeeming amusement val -> 1.00\n",
        "\n"
      ]
    },
    {
      "cell_type": "code",
      "execution_count": null,
      "id": "216fa97a",
      "metadata": {
        "id": "216fa97a",
        "colab": {
          "base_uri": "https://localhost:8080/"
        },
        "outputId": "0994f184-d2cf-4650-c8ab-211fa7ef6e35"
      },
      "outputs": [
        {
          "output_type": "execute_result",
          "data": {
            "text/plain": [
              "1"
            ]
          },
          "metadata": {},
          "execution_count": 44
        }
      ],
      "source": [
        "# Feel free to check the sentiment of your own review below\n",
        "my_review = 'The moview was very boring, I wanted to leave in the middle'\n",
        "naive_bayes_predict(my_review, logprior, loglikelihood)"
      ]
    },
    {
      "cell_type": "markdown",
      "id": "8a45e4f0",
      "metadata": {
        "id": "8a45e4f0"
      },
      "source": [
        "### Expected Output :\n",
        "1"
      ]
    },
    {
      "cell_type": "markdown",
      "source": [
        "# Evaluate the accuracy\n",
        "1. Split your data into training and test sets using random selection. Set the seed as parameter of the function so that user can select a different training and test set by changin seed.\n",
        "\n",
        "2. Calculate model paramters with training set.\n",
        "\n",
        "3. Print confusion matrix for training and test set.\n",
        "\n",
        "4. Examine False Positive and False Negative cases and provide reasoning why they get misclassified."
      ],
      "metadata": {
        "id": "mAIkM4aCC1H7"
      },
      "id": "mAIkM4aCC1H7"
    },
    {
      "cell_type": "code",
      "source": [
        "X_train, X_test, y_train, y_test = train_test_split(df_upsampled['review'], df_upsampled['sentiment'], test_size=0.3, random_state = 67)\n",
        "\n",
        "output_map = {'positive': 0, 'negative': 1}\n",
        "y_train = y_train.map(output_map)\n",
        "y_test = y_test.map(output_map)\n",
        "\n",
        "freqs_1 = review_counter({}, X_train, y_train)\n",
        "freqs_1"
      ],
      "metadata": {
        "id": "JkS6GOEF5n_r"
      },
      "id": "JkS6GOEF5n_r",
      "execution_count": null,
      "outputs": []
    },
    {
      "cell_type": "code",
      "source": [
        "logprior, loglikelihood = train_naive_bayes(freqs, X_train, y_train)\n",
        "print(logprior)\n",
        "print(len(loglikelihood))"
      ],
      "metadata": {
        "colab": {
          "base_uri": "https://localhost:8080/"
        },
        "id": "lulOq_u5_ejF",
        "outputId": "d9ff41e9-f987-4551-9eef-dc33ae5bc35c"
      },
      "id": "lulOq_u5_ejF",
      "execution_count": null,
      "outputs": [
        {
          "output_type": "stream",
          "name": "stdout",
          "text": [
            "-0.003092254654364579\n",
            "92204\n"
          ]
        }
      ]
    },
    {
      "cell_type": "code",
      "source": [
        "train_accuracy, y_pred_train = test_naive_bayes(X_train, y_train, logprior, loglikelihood)"
      ],
      "metadata": {
        "id": "HoxAvK97_pqx"
      },
      "id": "HoxAvK97_pqx",
      "execution_count": null,
      "outputs": []
    },
    {
      "cell_type": "code",
      "source": [
        "test_accuracy, y_pred_test = test_naive_bayes(X_test, y_test, logprior, loglikelihood)"
      ],
      "metadata": {
        "id": "inWAlNg_GM3O"
      },
      "id": "inWAlNg_GM3O",
      "execution_count": null,
      "outputs": []
    },
    {
      "cell_type": "code",
      "source": [
        "print('Confusion matrix of the test set is:', confusion_matrix(y_test, y_pred_test))"
      ],
      "metadata": {
        "colab": {
          "base_uri": "https://localhost:8080/"
        },
        "id": "WYj2OYsEAMXC",
        "outputId": "ab6c48a9-f6dd-4f16-c04c-059ab85da183"
      },
      "id": "WYj2OYsEAMXC",
      "execution_count": null,
      "outputs": [
        {
          "output_type": "stream",
          "name": "stdout",
          "text": [
            "Confusion matrix of the test set is: [[3361  368]\n",
            " [ 179 3577]]\n"
          ]
        }
      ]
    },
    {
      "cell_type": "code",
      "source": [
        "print('Confusion matrix of the test set is:', confusion_matrix(y_train, y_pred_train))"
      ],
      "metadata": {
        "colab": {
          "base_uri": "https://localhost:8080/"
        },
        "id": "ThWy2qhTKS1l",
        "outputId": "7a6540c3-267a-44b0-b9fa-0d326bd60eff"
      },
      "id": "ThWy2qhTKS1l",
      "execution_count": null,
      "outputs": [
        {
          "output_type": "stream",
          "name": "stdout",
          "text": [
            "Confusion matrix of the test set is: [[7915  830]\n",
            " [ 394 8324]]\n"
          ]
        }
      ]
    },
    {
      "cell_type": "code",
      "source": [
        "true_neg, false_pos, false_neg, true_pos = confusion_matrix(y_test, y_pred_test).ravel()\n",
        "true_neg, false_pos, false_neg, true_pos"
      ],
      "metadata": {
        "colab": {
          "base_uri": "https://localhost:8080/"
        },
        "id": "kQmZrIndLU0b",
        "outputId": "d5aaae6f-b82c-4c96-e8ca-c3708b428720"
      },
      "id": "kQmZrIndLU0b",
      "execution_count": null,
      "outputs": [
        {
          "output_type": "execute_result",
          "data": {
            "text/plain": [
              "(3361, 368, 179, 3577)"
            ]
          },
          "metadata": {},
          "execution_count": 51
        }
      ]
    },
    {
      "cell_type": "markdown",
      "source": [
        "# Modularize your calssifier\n",
        "1. Convert your code into a python module text_classifier.py\n",
        "\n",
        "2. The user should be able to launch the application on command prompt using python test_classifier.py command. The module will automatically load the model paramters from a local file of your choice and be ready to take the input from user on command prompt. The program will preprocess user input, tokenize and predict the class.\n",
        "\n",
        "3. Your module will take the input from user and output sentiment class in an indefinite loop. The output should printout the probabilities for each input token along with the final classification decision. Program will quit if user enters X.\n"
      ],
      "metadata": {
        "id": "XbzttYVnBo7W"
      },
      "id": "XbzttYVnBo7W"
    },
    {
      "cell_type": "markdown",
      "id": "82e6e4d1",
      "metadata": {
        "id": "82e6e4d1"
      },
      "source": [
        "# Theory Questions Answered\n",
        "\n",
        "1. Why is Laplace Smoothing or Additive Smoothing required while executing Naive Bayes operations, especially for text classification? Show how not having additive smoothing leads to bad outcomes by using an example of training and the test set. \n",
        "\n",
        "\n",
        "2. Why are logarithmic values computed instead of only probability values in the Naive Bayes algorithm? "
      ]
    },
    {
      "cell_type": "markdown",
      "source": [
        "##1.\n",
        "When performing text classification, let us assume we want to predict the sentiment of the review: \"It was not authentic\". And if the word \"authentic\" has not appeared in our train set, then the probability of that word occuring will become zero and the Naive Bayes formula:\n",
        "P(positive\\|review) = P(w1\\|positive) \\* P(w1\\|positive) \\* P(w3\\|positive) \\* P(w4\\|positive)\n",
        "\n",
        "will become 0 because p(w4\\|positive) is 0 and will hence result in false results.\n",
        "To avoid situations like these, we make use of Laplace or Additive Smoothing while executing Naive Bayes operations, which use the formula:\n",
        "$P(w|positive) = \\frac{number\\:of\\:reviews\\:with\\:w\\:and\\:y\\:=\\:positive + \\alpha}{N+\\alpha * K}$\n"
      ],
      "metadata": {
        "id": "ZM_wTJxYNVtR"
      },
      "id": "ZM_wTJxYNVtR"
    },
    {
      "cell_type": "markdown",
      "source": [
        "##2.\n",
        "While using the Naive Bayes algorithm, we split the sentences into words and then calculate the probability of each word and then use the formula:\n",
        "\n",
        "P(positive\\|review) = P(w1\\|positive) \\* P(w1\\|positive) \\* P(w3\\|positive) \\* ......P(wn\\|positive)\n",
        "\n",
        "And when calculating probabilites of long sentences, the multiplication of a lot of probability values will almost converge to zero and give us false results and a significant in precision. To avoid this, we make use of logarithmic values which will range from 0 to infinity, and hence the multiplication will yield higher values than 0.\n",
        "\n"
      ],
      "metadata": {
        "id": "5RNrY_jdxewC"
      },
      "id": "5RNrY_jdxewC"
    },
    {
      "cell_type": "code",
      "source": [],
      "metadata": {
        "id": "gwwCmxgRFp4N"
      },
      "id": "gwwCmxgRFp4N",
      "execution_count": null,
      "outputs": []
    }
  ],
  "metadata": {
    "kernelspec": {
      "display_name": "Python 3 (ipykernel)",
      "language": "python",
      "name": "python3"
    },
    "language_info": {
      "codemirror_mode": {
        "name": "ipython",
        "version": 3
      },
      "file_extension": ".py",
      "mimetype": "text/x-python",
      "name": "python",
      "nbconvert_exporter": "python",
      "pygments_lexer": "ipython3",
      "version": "3.9.5"
    },
    "colab": {
      "provenance": []
    }
  },
  "nbformat": 4,
  "nbformat_minor": 5
}